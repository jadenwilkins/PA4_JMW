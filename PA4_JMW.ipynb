{
 "cells": [
  {
   "cell_type": "code",
   "execution_count": 12,
   "id": "8d904b00",
   "metadata": {},
   "outputs": [
    {
     "name": "stdout",
     "output_type": "stream",
     "text": [
      "{'hello': 'hola', 'with': 'con', 'good-bye': 'adios', 'door': 'puerta', 'computer': 'computadora', 'science': 'ciencias', 'that': 'que', 'chicken': 'pollo', 'shoe': 'zapato', 'library': 'biblioteca', 'green': 'verde', 'blue': 'azul', 'red': 'rojo', 'car': 'coche', 'boy': 'chico', 'girl': 'chica', 'sports': 'deportes', 'boyfriend': 'novio', 'girlfriend': 'novia', 'plant': 'planta'}\n"
     ]
    }
   ],
   "source": [
    "translate={'hello' : 'hola',\n",
    "          'with' : 'con',\n",
    "          'good-bye' : 'adios',\n",
    "          'door' : 'puerta',\n",
    "          'computer' : 'computadora',\n",
    "          'science' : 'ciencias',\n",
    "          'that' : 'que',\n",
    "          'chicken' : 'pollo',\n",
    "          'shoe' : 'zapato',\n",
    "          'library' : 'biblioteca',\n",
    "          'green' : 'verde',\n",
    "          'blue' : 'azul',\n",
    "          'red' : 'rojo',\n",
    "          'car' : 'coche',\n",
    "          'boy' : 'chico',\n",
    "          'girl' : 'chica',\n",
    "          'sports' : 'deportes',\n",
    "          'boyfriend' : 'novio',\n",
    "          'girlfriend' : 'novia',\n",
    "          'plant' : 'planta'}\n",
    "print(translate)"
   ]
  },
  {
   "cell_type": "code",
   "execution_count": 43,
   "id": "a915326b",
   "metadata": {},
   "outputs": [
    {
     "name": "stdout",
     "output_type": "stream",
     "text": [
      "Enter a word to translate from English to Spanish 0\n"
     ]
    }
   ],
   "source": [
    "user_word = \"Enter a word to translate from English to Spanish \"\n",
    "active = True\n",
    "while active: \n",
    "    message = input(user_word)\n",
    "    if message=='0':\n",
    "        break\n",
    "    elif message:\n",
    "        print(\"The Spanish word for\", message, \" is\", translate.get(message).upper())\n",
    "    else:\n",
    "        print(\"This word is not in the dictionary\")\n",
    "    \n",
    "\n",
    "  "
   ]
  },
  {
   "cell_type": "code",
   "execution_count": 41,
   "id": "81d6d5f9",
   "metadata": {},
   "outputs": [
    {
     "data": {
      "text/plain": [
       "{'september 1': 72,\n",
       " 'september 2': 68,\n",
       " 'september 3': 68,\n",
       " 'september 4': 69,\n",
       " 'september 5': 70,\n",
       " 'september 6': 76}"
      ]
     },
     "execution_count": 41,
     "metadata": {},
     "output_type": "execute_result"
    }
   ],
   "source": [
    "ky_weather={'september 1' : 72,\n",
    "           'september 2' : 68,\n",
    "           'september 3' : 68,\n",
    "           'september 4' : 69,\n",
    "           'september 5' : 70,\n",
    "           'september 6' : 76,}\n",
    "ky_weather"
   ]
  },
  {
   "cell_type": "code",
   "execution_count": 46,
   "id": "4aee273f",
   "metadata": {},
   "outputs": [
    {
     "data": {
      "text/plain": [
       "{'september 1': 22.22222222222222,\n",
       " 'september 2': 20.0,\n",
       " 'september 3': 20.0,\n",
       " 'september 4': 20.555555555555557,\n",
       " 'september 5': 21.11111111111111,\n",
       " 'september 6': 24.444444444444443}"
      ]
     },
     "execution_count": 46,
     "metadata": {},
     "output_type": "execute_result"
    }
   ],
   "source": [
    "ky_weather.update({'september 1' : (72-32)*5/9,\n",
    "                  'september 2' : (68-32)*5/9,\n",
    "                  'september 3' : (68-32)*5/9,\n",
    "                  'september 4' : (69-32)*5/9,\n",
    "                  'september 5' : (70-32)*5/9,\n",
    "                  'september 6' : (76-32)*5/9})\n",
    "ky_weather"
   ]
  },
  {
   "cell_type": "code",
   "execution_count": 68,
   "id": "81596d52",
   "metadata": {},
   "outputs": [
    {
     "name": "stdout",
     "output_type": "stream",
     "text": [
      "{1: 1}\n",
      "{2: 4}\n",
      "{3: 9}\n",
      "{4: 16}\n",
      "{5: 25}\n",
      "{6: 36}\n",
      "{7: 49}\n",
      "{8: 64}\n",
      "{9: 81}\n",
      "{10: 100}\n",
      "{11: 121}\n",
      "{12: 144}\n",
      "{13: 169}\n",
      "{14: 196}\n",
      "{15: 225}\n"
     ]
    }
   ],
   "source": [
    "num_sqr={1 : '',\n",
    "        2 : '',\n",
    "        3 : '',\n",
    "        4 : '',\n",
    "        5 : '',\n",
    "        6 : '',\n",
    "        7 : '',\n",
    "        8 : '',\n",
    "        9 : '',\n",
    "        10 : '',\n",
    "        11 : '',\n",
    "        12 : '',\n",
    "        13 : '',\n",
    "        14 : '',\n",
    "        15 : ''}\n",
    "for key in num_sqr:\n",
    "         print({key : key**2})"
   ]
  }
 ],
 "metadata": {
  "kernelspec": {
   "display_name": "Python 3 (ipykernel)",
   "language": "python",
   "name": "python3"
  },
  "language_info": {
   "codemirror_mode": {
    "name": "ipython",
    "version": 3
   },
   "file_extension": ".py",
   "mimetype": "text/x-python",
   "name": "python",
   "nbconvert_exporter": "python",
   "pygments_lexer": "ipython3",
   "version": "3.9.12"
  }
 },
 "nbformat": 4,
 "nbformat_minor": 5
}
